{
  "cells": [
    {
      "cell_type": "markdown",
      "id": "auburn-pittsburgh",
      "metadata": {
        "id": "auburn-pittsburgh"
      },
      "source": [
        "# Lab 1 - FrozenLake MDP: Part 2 \n",
        "# Assignment\n",
        "\n",
        "- In this assignment you will learn how to tackle problems with limited state spaces.\n",
        "- In particular we consider the FrozenLake MDP problem.\n",
        "\n",
        "# Outline\n",
        "\n",
        "- Part 0 introduces us to [gym](https://gymnasium.farama.org/), an environment that allows us to test our reinforcement learning algorithms in various problems\n",
        "- In Part 1, you implemented a policy iteration algorithm (in previous homework HW1)\n",
        "- In Part 2, you will implement Q-Learning and SARSA (This homework HW2) \n",
        "\n",
        "# Deliverable\n",
        "\n",
        "Regarding the Lab:\n",
        "\n",
        "- Make sure your code runs from top to bottom without any errors.\n",
        "- Your submitted Notebook must contain saved outputs."
      ]
    },
    {
      "cell_type": "markdown",
      "id": "medium-dancing",
      "metadata": {
        "id": "medium-dancing"
      },
      "source": [
        "# Recall: FrozenLake-v1 environment in Gym\n",
        "- We look [FrozenLake-v1 environment](https://gymnasium.farama.org/environments/toy_text/frozen_lake/) in gym. \n",
        "- You don't need to write any code for this part\n",
        "- you should still understand the code to help you solve Part 2\n"
      ]
    },
    {
      "cell_type": "code",
      "execution_count": null,
      "id": "necessary-character",
      "metadata": {
        "colab": {
          "base_uri": "https://localhost:8080/"
        },
        "id": "necessary-character",
        "outputId": "987da8b7-c2b4-4f57-f593-67e9f2caa389"
      },
      "outputs": [
        {
          "output_type": "stream",
          "name": "stdout",
          "text": [
            "Looking in indexes: https://pypi.org/simple, https://us-python.pkg.dev/colab-wheels/public/simple/\n",
            "Collecting gymnasium\n",
            "  Downloading gymnasium-0.27.1-py3-none-any.whl (883 kB)\n",
            "\u001b[2K     \u001b[90m━━━━━━━━━━━━━━━━━━━━━━━━━━━━━━━━━━━━━━\u001b[0m \u001b[32m883.7/883.7 KB\u001b[0m \u001b[31m11.2 MB/s\u001b[0m eta \u001b[36m0:00:00\u001b[0m\n",
            "\u001b[?25hRequirement already satisfied: numpy>=1.21.0 in /usr/local/lib/python3.8/dist-packages (from gymnasium) (1.22.4)\n",
            "Requirement already satisfied: importlib-metadata>=4.8.0 in /usr/local/lib/python3.8/dist-packages (from gymnasium) (6.0.0)\n",
            "Requirement already satisfied: cloudpickle>=1.2.0 in /usr/local/lib/python3.8/dist-packages (from gymnasium) (2.2.1)\n",
            "Requirement already satisfied: typing-extensions>=4.3.0 in /usr/local/lib/python3.8/dist-packages (from gymnasium) (4.5.0)\n",
            "Collecting gymnasium-notices>=0.0.1\n",
            "  Downloading gymnasium_notices-0.0.1-py3-none-any.whl (2.8 kB)\n",
            "Collecting jax-jumpy>=0.2.0\n",
            "  Downloading jax_jumpy-0.2.0-py3-none-any.whl (11 kB)\n",
            "Requirement already satisfied: zipp>=0.5 in /usr/local/lib/python3.8/dist-packages (from importlib-metadata>=4.8.0->gymnasium) (3.14.0)\n",
            "Installing collected packages: gymnasium-notices, jax-jumpy, gymnasium\n",
            "Successfully installed gymnasium-0.27.1 gymnasium-notices-0.0.1 jax-jumpy-0.2.0\n",
            "Looking in indexes: https://pypi.org/simple, https://us-python.pkg.dev/colab-wheels/public/simple/\n",
            "Collecting pygame\n",
            "  Downloading pygame-2.1.3-cp38-cp38-manylinux_2_17_x86_64.manylinux2014_x86_64.whl (13.7 MB)\n",
            "\u001b[2K     \u001b[90m━━━━━━━━━━━━━━━━━━━━━━━━━━━━━━━━━━━━━━━━\u001b[0m \u001b[32m13.7/13.7 MB\u001b[0m \u001b[31m17.3 MB/s\u001b[0m eta \u001b[36m0:00:00\u001b[0m\n",
            "\u001b[?25hInstalling collected packages: pygame\n",
            "Successfully installed pygame-2.1.3\n"
          ]
        }
      ],
      "source": [
        "import os\n",
        "# You will need numpy and gym. You can try running the following lines to install them\n",
        "# The assignment is tested on Python3.8 so in case you are having installation issues you might \n",
        "# want to try installing that version. \n",
        "\n",
        "# !{os.sys.executable} -m pip install numpy\n",
        "!{os.sys.executable} -m pip install gymnasium\n",
        "# !{os.sys.executable} -m pip install Pillow\n",
        "# !{os.sys.executable} -m pip install ipython\n",
        "!{os.sys.executable} -m pip install pygame\n",
        "\n",
        "import gymnasium as gym\n",
        "import numpy as np\n",
        "from PIL import Image\n",
        "from IPython.display import display"
      ]
    },
    {
      "cell_type": "code",
      "execution_count": null,
      "id": "considerable-swing",
      "metadata": {
        "colab": {
          "base_uri": "https://localhost:8080/"
        },
        "id": "considerable-swing",
        "outputId": "6a01727e-98e5-4a96-e8bf-1bfece5eaede"
      },
      "outputs": [
        {
          "output_type": "stream",
          "name": "stdout",
          "text": [
            "Number of States 16, Number of Actions 4\n",
            "Reward range (0, 1)\n"
          ]
        }
      ],
      "source": [
        "# Import the environment we will use in this assignment\n",
        "env=gym.make('FrozenLake-v1',is_slippery=True, render_mode=\"rgb_array\")\n",
        "\n",
        "# Note: If you have installed the newest gym version, FrozenLake-v0 might not be available. In this case, instead of env=gym.make('FrozenLake-v0') you can use:\n",
        "# env=gym.make('FrozenLake-v1',is_slippery=True)\n",
        "\n",
        "# Show the model\n",
        "print(f\"Number of States {env.observation_space.n}, Number of Actions {env.action_space.n}\")\n",
        "print(f\"Reward range {env.reward_range}\")"
      ]
    },
    {
      "cell_type": "code",
      "execution_count": null,
      "id": "71L4uVanjIaZ",
      "metadata": {
        "colab": {
          "base_uri": "https://localhost:8080/",
          "height": 273
        },
        "id": "71L4uVanjIaZ",
        "outputId": "aa6269b1-3b29-4d6c-d357-7e0f13803fec"
      },
      "outputs": [
        {
          "output_type": "display_data",
          "data": {
            "text/plain": [
              "<PIL.Image.Image image mode=RGB size=256x256 at 0x7F4C498484C0>"
            ],
            "image/png": "[encoded data removed]"
          },
          "metadata": {}
        }
      ],
      "source": [
        "env.reset()\n",
        "display(Image.fromarray(env.render()))"
      ]
    },
    {
      "cell_type": "markdown",
      "id": "obvious-implementation",
      "metadata": {
        "id": "obvious-implementation"
      },
      "source": [
        "# Part 2 - Model-Free Control\n",
        "\n",
        "Recall that in Part 1 you implemented Policy Iteration with Policy Evaluation and Policy Improvement. However this required knowledge of the model (i.e. `env.P`). In this section we study methods that do not require knowing the model."
      ]
    },
    {
      "cell_type": "markdown",
      "id": "expired-promotion",
      "metadata": {
        "id": "expired-promotion"
      },
      "source": [
        "# Q-Learning\n",
        "* In this part you will implement Q-Learning with epsilon-greedy exploration to find the optimal policy.  \n",
        "  * You can experiment with fixed and adaptive learning rate and epsilon\n",
        "  * Report your best result and mention the differences you observed in answer to final questions\n"
      ]
    },
    {
      "cell_type": "code",
      "execution_count": 115,
      "id": "focal-capability",
      "metadata": {
        "id": "focal-capability"
      },
      "outputs": [],
      "source": [
        "from matplotlib.pylab import e\n",
        "# Initialize Running Parameters. \n",
        "# You should try to maintain the *number of episodes* and *max length of episode* at these numbers for your final results\n",
        "# However feel free to modify them for debugging purposes\n",
        "num_episodes       = 5000\n",
        "episode_max_length = 100\n",
        "\n",
        "# initialize discount factor and learning rate\n",
        "gamma     = 0.95\n",
        "learnRate = 0.6\n",
        "\n",
        "#create Q table\n",
        "Q=np.zeros([env.observation_space.n,env.action_space.n]) #matrix Q[s,a]\n",
        "\n",
        "reward_of_episodes = [] # list containing total reward of each episode (these rewards don't need to be discounted)\n",
        "\n",
        "# exponential decay for epsilon\n",
        "min_epsilon = 0\n",
        "max_epsilon = 1.0\n",
        "decay_rate = 0.003\n",
        "\n",
        "#epsilon = 0.175\n",
        "\n",
        "#execute in episodes\n",
        "for episode in range(num_episodes):\n",
        "    \n",
        "    # reset the environment at the beginning of an episode\n",
        "\n",
        "    # state = env...\n",
        "    # ....\n",
        "    state = env.reset()\n",
        "    state = state[0]\n",
        "    total_reward = 0.0\n",
        "\n",
        "    for t in range(episode_max_length):\n",
        "        \n",
        "        ########### SELECT ACTION a for your current state using Q-values ##################\n",
        "        # for example, choosing greedily:\n",
        "        #action = np.argmax(Q[state,:])\n",
        "        epsilon = min_epsilon + (max_epsilon - min_epsilon)*np.exp(-decay_rate*episode)\n",
        "\n",
        "        if np.random.rand() > epsilon:\n",
        "            action = np.argmax(Q[state])\n",
        "        else:\n",
        "            action = env.action_space.sample()\n",
        "        \n",
        "        # new state, reward, done\n",
        "        newstate, reward, finished, _, _ = env.step(action)\n",
        "        ##### update Q(state,action) ############\n",
        "        Q[state][action] = Q[state][action] + learnRate * (reward + gamma * np.max(Q[newstate]) - Q[state][action])\n",
        "        total_reward += reward\n",
        "        \n",
        "        # stop if we have reached terminal state \n",
        "        # ...\n",
        "        # update state\n",
        "        if finished:\n",
        "            break\n",
        "        state = newstate\n",
        "    reward_of_episodes.append(total_reward)"
      ]
    },
    {
      "cell_type": "markdown",
      "id": "unnecessary-relations",
      "metadata": {
        "id": "unnecessary-relations"
      },
      "source": [
        "- Construct `reward_of_episodes`, a list with the total rewards of each episode (these rewards do not need to be discounted)\n",
        "- Plot the moving average of the list\n",
        "- Ideally you want to achieve a reward greater than 0.7 (the problem is technically considered solved for 0.78)"
      ]
    },
    {
      "cell_type": "code",
      "execution_count": null,
      "id": "answering-boards",
      "metadata": {
        "id": "answering-boards"
      },
      "outputs": [],
      "source": [
        "# You don't need to change the code here.\n",
        "# you can use this function to plot the moving average of a list\n",
        "from numpy import convolve, ones\n",
        "def movingaverage(interval, window_size):\n",
        "    window= np.ones(int(window_size))/float(window_size)\n",
        "    return np.convolve(interval, window, 'valid')\n",
        "from pylab import plot"
      ]
    },
    {
      "cell_type": "code",
      "execution_count": 116,
      "id": "uKZpBQq9ywSe",
      "metadata": {
        "id": "uKZpBQq9ywSe",
        "colab": {
          "base_uri": "https://localhost:8080/",
          "height": 283
        },
        "outputId": "550ee48c-f7cb-438a-8775-9a729a3e2eb5"
      },
      "outputs": [
        {
          "output_type": "execute_result",
          "data": {
            "text/plain": [
              "[<matplotlib.lines.Line2D at 0x7f4b79c9beb0>]"
            ]
          },
          "metadata": {},
          "execution_count": 116
        },
        {
          "output_type": "display_data",
          "data": {
            "text/plain": [
              "<Figure size 432x288 with 1 Axes>"
            ],
            "image/png": "[encoded data removed]"
          },
          "metadata": {
            "needs_background": "light"
          }
        }
      ],
      "source": [
        "# Plot the moving average of total undiscounted reward across episodes here\n",
        "rm=movingaverage(reward_of_episodes, 100)\n",
        "plot(rm)"
      ]
    },
    {
      "cell_type": "markdown",
      "id": "sexual-aviation",
      "metadata": {
        "id": "sexual-aviation"
      },
      "source": [
        "#  SARSA\n",
        "\n",
        "- In the following you will implement SARSA with epsilon-greedy exploration.  \n",
        "    - You can experiment with fixed and adaptive learning rate and epsilon\n",
        "    - Report your best result and mention the differences you observed in answer to final questions"
      ]
    },
    {
      "cell_type": "code",
      "execution_count": 119,
      "id": "careful-quick",
      "metadata": {
        "id": "careful-quick"
      },
      "outputs": [],
      "source": [
        "#initialize episodic structure - again try to maintain these two parameters as they are for your final submission\n",
        "num_episodes=5000;\n",
        "episode_max_length=100;\n",
        "\n",
        "#initialize discount factor, learning rate\n",
        "gamma=0.95\n",
        "learnRate=0.6\n",
        "\n",
        "#create Q table\n",
        "Q=np.zeros([env.observation_space.n,env.action_space.n]) #matrix Q[s,a]\n",
        "\n",
        "reward_of_episodes = [] # list containing total reward of each episode\n",
        "\n",
        "# exponential decay for epsilon\n",
        "min_epsilon = 0\n",
        "max_epsilon = 1.0\n",
        "decay_rate = 0.003\n",
        "\n",
        "#epsilon = 0.175\n",
        "\n",
        "#execute in episodes\n",
        "for episode in range(num_episodes):\n",
        "    \n",
        "    # reset the environment at the beginning of an episode \n",
        "    # and other possible initializations here\n",
        "\n",
        "    # state = env...\n",
        "    # ....\n",
        "    epsilon = min_epsilon + (max_epsilon - min_epsilon)*np.exp(-decay_rate*episode)\n",
        "\n",
        "    state = env.reset()\n",
        "    state = state[0]\n",
        "    total_reward = 0.0\n",
        "\n",
        "    if np.random.random() > epsilon:\n",
        "        action = np.argmax(Q[state, :])\n",
        "    else:\n",
        "        action = env.action_space.sample()\n",
        "\n",
        "    for t in range(episode_max_length):\n",
        "        # take an action `action` and observe the next state ...\n",
        "        # state2, reward, done, info = ....\n",
        "        \n",
        "        # what is the next action?\n",
        "        # update Q[state,action]\n",
        "        \n",
        "        # other updates \n",
        "        # stop if we have reached terminal state \n",
        "        \n",
        "        newstate, reward, finished, _, _ = env.step(action)\n",
        "        if np.random.rand() > epsilon:\n",
        "            newaction = np.argmax(Q[newstate])\n",
        "        else:\n",
        "            newaction = env.action_space.sample()\n",
        "        \n",
        "        Q[state, action] += learnRate * (reward + gamma * Q[newstate, newaction] - Q[state, action])\n",
        "        total_reward += reward\n",
        "\n",
        "        if finished:\n",
        "            break\n",
        "        state, action = newstate, newaction\n",
        "    reward_of_episodes.append(total_reward)\n",
        "    # Other possible code here"
      ]
    },
    {
      "cell_type": "code",
      "execution_count": 120,
      "id": "complete-absence",
      "metadata": {
        "id": "complete-absence",
        "colab": {
          "base_uri": "https://localhost:8080/",
          "height": 283
        },
        "outputId": "3190f00f-b0ab-439e-dbd3-b4adde842c9d"
      },
      "outputs": [
        {
          "output_type": "execute_result",
          "data": {
            "text/plain": [
              "[<matplotlib.lines.Line2D at 0x7f4b79bdcb20>]"
            ]
          },
          "metadata": {},
          "execution_count": 120
        },
        {
          "output_type": "display_data",
          "data": {
            "text/plain": [
              "<Figure size 432x288 with 1 Axes>"
            ],
            "image/png": "[encoded data removed]"
          },
          "metadata": {
            "needs_background": "light"
          }
        }
      ],
      "source": [
        "# Plot the moving average of total reward across episodes here\n",
        "rm=movingaverage(reward_of_episodes, 100)\n",
        "plot(rm)"
      ]
    },
    {
      "cell_type": "markdown",
      "id": "beautiful-australian",
      "metadata": {
        "id": "beautiful-australian"
      },
      "source": [
        "#### How do your algorithms perform for different values of epsilon? Adaptive methods vs Fixed methods?\n",
        "Fixed methods don't yield good results topping at around 0.2-0.3. This is because as the agent learns it should focus more on exploiting its knowledge rather than exploring. We use exponential decay of epsilon starting from 1 (pure exploration) to 0 (pure exploitation).\n",
        "\n",
        "#### How do your algorithms perform for different values of the learning rate? Adaptive methods vs Fixed methods?\n",
        "Learning rate didn't influence the algorithms as much the value of epsilon. A modest learning rate of 0.6 was good enough for good performance. A high learning rate gave really bad performance. Adaptive learning rate didn't help much either.\n",
        "\n",
        "#### With a fixed epsilon and under identical learning rate rules and gamma value, compare the performance of Q-learning and SARSA. \n",
        "Q-learning performs better than SARSA under identical hyperparameters due to absence of penalizing rewards in this case. Using adaptive methods, the results were very similar converging to the optimal value as we expected."
      ]
    }
  ],
  "metadata": {
    "colab": {
      "provenance": []
    },
    "kernelspec": {
      "display_name": "Python 3",
      "language": "python",
      "name": "python3"
    },
    "language_info": {
      "codemirror_mode": {
        "name": "ipython",
        "version": 3
      },
      "file_extension": ".py",
      "mimetype": "text/x-python",
      "name": "python",
      "nbconvert_exporter": "python",
      "pygments_lexer": "ipython3",
      "version": "3.8.9 (default, Oct 26 2021, 07:25:54) \n[Clang 13.0.0 (clang-1300.0.29.30)]"
    },
    "vscode": {
      "interpreter": {
        "hash": "31f2aee4e71d21fbe5cf8b01ff0e069b9275f58929596ceb00d14d90e3e16cd6"
      }
    }
  },
  "nbformat": 4,
  "nbformat_minor": 5
}