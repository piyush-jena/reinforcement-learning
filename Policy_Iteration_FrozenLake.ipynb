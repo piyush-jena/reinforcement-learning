{
  "nbformat": 4,
  "nbformat_minor": 5,
  "metadata": {
    "colab": {
      "provenance": []
    },
    "kernelspec": {
      "display_name": "Python3.8",
      "language": "python",
      "name": "python3.8"
    },
    "language_info": {
      "codemirror_mode": {
        "name": "ipython",
        "version": 3
      },
      "file_extension": ".py",
      "mimetype": "text/x-python",
      "name": "python",
      "nbconvert_exporter": "python",
      "pygments_lexer": "ipython3",
      "version": "3.8.9"
    }
  },
  "cells": [
    {
      "cell_type": "markdown",
      "metadata": {
        "id": "auburn-pittsburgh",
        "tags": []
      },
      "source": [
        "# Lab 1 - FrozenLake MDP: Part 1\n",
        "# Assignment\n",
        "\n",
        "- In this assignment you will learn how to tackle problems with limited state spaces.\n",
        "- In particular we consider the FrozenLake MDP problem.\n",
        "\n",
        "# Outline\n",
        "\n",
        "- Part 0 introduces us to [gym](https://gymnasium.farama.org/), an environment that allows us to test our reinforcement learning algorithms in various problems\n",
        "- In Part 1, you will implement a policy iteration algorithm (HW1)\n",
        "- In Part 2, you will implement Q-Learning and SARSA (in next homework HW2) \n",
        "\n",
        "# Deliverable\n",
        "\n",
        "Regarding the Lab:\n",
        "\n",
        "- Make sure your code runs from top to bottom without any errors.\n",
        "- Your submitted Notebook must contain saved outputs."
      ],
      "id": "auburn-pittsburgh"
    },
    {
      "cell_type": "code",
      "metadata": {
        "id": "flush-grove",
        "colab": {
          "base_uri": "https://localhost:8080/"
        },
        "outputId": "d2462fea-0442-41b0-cfed-28756b25ada6"
      },
      "source": [
        "import os\n",
        "# You will need numpy and gym. You can try running the following lines to install them\n",
        "# The assignment is tested on Python3.8 so in case you are having installation issues you might \n",
        "# want to try installing that version. \n",
        "\n",
        "# !{os.sys.executable} -m pip install numpy\n",
        "!{os.sys.executable} -m pip install gymnasium\n",
        "# !{os.sys.executable} -m pip install Pillow\n",
        "# !{os.sys.executable} -m pip install ipython\n",
        "!{os.sys.executable} -m pip install pygame\n",
        "import gymnasium as gym\n",
        "import numpy as np\n",
        "from PIL import Image\n",
        "from IPython.display import display"
      ],
      "id": "flush-grove",
      "execution_count": 28,
      "outputs": [
        {
          "output_type": "stream",
          "name": "stdout",
          "text": [
            "Looking in indexes: https://pypi.org/simple, https://us-python.pkg.dev/colab-wheels/public/simple/\n",
            "Requirement already satisfied: gymnasium in /usr/local/lib/python3.8/dist-packages (0.27.1)\n",
            "Requirement already satisfied: cloudpickle>=1.2.0 in /usr/local/lib/python3.8/dist-packages (from gymnasium) (2.2.1)\n",
            "Requirement already satisfied: jax-jumpy>=0.2.0 in /usr/local/lib/python3.8/dist-packages (from gymnasium) (0.2.0)\n",
            "Requirement already satisfied: importlib-metadata>=4.8.0 in /usr/local/lib/python3.8/dist-packages (from gymnasium) (6.0.0)\n",
            "Requirement already satisfied: typing-extensions>=4.3.0 in /usr/local/lib/python3.8/dist-packages (from gymnasium) (4.4.0)\n",
            "Requirement already satisfied: gymnasium-notices>=0.0.1 in /usr/local/lib/python3.8/dist-packages (from gymnasium) (0.0.1)\n",
            "Requirement already satisfied: numpy>=1.21.0 in /usr/local/lib/python3.8/dist-packages (from gymnasium) (1.21.6)\n",
            "Requirement already satisfied: zipp>=0.5 in /usr/local/lib/python3.8/dist-packages (from importlib-metadata>=4.8.0->gymnasium) (3.12.0)\n",
            "Looking in indexes: https://pypi.org/simple, https://us-python.pkg.dev/colab-wheels/public/simple/\n",
            "Requirement already satisfied: pygame in /usr/local/lib/python3.8/dist-packages (2.1.2)\n"
          ]
        }
      ]
    },
    {
      "cell_type": "markdown",
      "metadata": {
        "id": "medium-dancing"
      },
      "source": [
        "# Part 0 - Introduction to Gym\n",
        "- We look at [FrozenLake-v1 environment](https://gymnasium.farama.org/environments/toy_text/frozen_lake/) in gym. \n",
        "- You don't need to write any code for this part\n",
        "- you should still understand the code to help you solve Part 1 and Part 2"
      ],
      "id": "medium-dancing"
    },
    {
      "cell_type": "code",
      "metadata": {
        "id": "considerable-swing",
        "colab": {
          "base_uri": "https://localhost:8080/"
        },
        "outputId": "2155cc89-c89a-4948-ac54-d31c156c48c0"
      },
      "source": [
        "# Import the environment we will use in this assignment\n",
        "env=gym.make('FrozenLake-v1',is_slippery=True, render_mode=\"rgb_array\") \n",
        "\n",
        "# Show the model\n",
        "print(f\"Number of States {env.observation_space.n}, Number of Actions {env.action_space.n}\")\n",
        "print(f\"Reward range {env.reward_range}\")"
      ],
      "id": "considerable-swing",
      "execution_count": 29,
      "outputs": [
        {
          "output_type": "stream",
          "name": "stdout",
          "text": [
            "Number of States 16, Number of Actions 4\n",
            "Reward range (0, 1)\n"
          ]
        }
      ]
    },
    {
      "cell_type": "code",
      "metadata": {
        "id": "severe-conjunction",
        "colab": {
          "base_uri": "https://localhost:8080/"
        },
        "outputId": "66a4eb71-3d8a-4a92-cce0-5ec5fcfd9f71"
      },
      "source": [
        "env.reset() # reset the environment "
      ],
      "id": "severe-conjunction",
      "execution_count": 30,
      "outputs": [
        {
          "output_type": "execute_result",
          "data": {
            "text/plain": [
              "(0, {'prob': 1})"
            ]
          },
          "metadata": {},
          "execution_count": 30
        }
      ]
    },
    {
      "cell_type": "code",
      "metadata": {
        "id": "endless-cassette",
        "colab": {
          "base_uri": "https://localhost:8080/",
          "height": 273
        },
        "outputId": "3cb7a7e9-c0e2-4839-8aa1-6dfa05ddc853"
      },
      "source": [
        "# visualize the current state\n",
        "display(Image.fromarray(env.render()))"
      ],
      "id": "endless-cassette",
      "execution_count": 31,
      "outputs": [
        {
          "output_type": "display_data",
          "data": {
            "text/plain": [
              "<PIL.Image.Image image mode=RGB size=256x256 at 0x7F3820121AC0>"
            ],
            "image/png": "[encoded data removed]"
          },
          "metadata": {}
        }
      ]
    },
    {
      "cell_type": "code",
      "metadata": {
        "id": "naughty-bread",
        "colab": {
          "base_uri": "https://localhost:8080/",
          "height": 309
        },
        "outputId": "e106d38c-5e0f-45a8-aed2-8255dd7cb73f"
      },
      "source": [
        "# run a policy that chooses actions randomly \n",
        "env.reset()\n",
        "n = 25\n",
        "for i in range(n):\n",
        "    a = env.action_space.sample() # Sample Random Action\n",
        "    state, reward, finished, _, _ = env.step(a)\n",
        "    if finished: break\n",
        "        \n",
        "print(f'Render State after {n} slots')\n",
        "display(Image.fromarray(env.render()))\n",
        "print(f'Reached terminal state? {finished}')"
      ],
      "id": "naughty-bread",
      "execution_count": 32,
      "outputs": [
        {
          "output_type": "stream",
          "name": "stdout",
          "text": [
            "Render State after 25 slots\n"
          ]
        },
        {
          "output_type": "display_data",
          "data": {
            "text/plain": [
              "<PIL.Image.Image image mode=RGB size=256x256 at 0x7F382012C670>"
            ],
            "image/png": "[encoded data removed]"
          },
          "metadata": {}
        },
        {
          "output_type": "stream",
          "name": "stdout",
          "text": [
            "Reached terminal state? True\n"
          ]
        }
      ]
    },
    {
      "cell_type": "code",
      "metadata": {
        "id": "front-nomination",
        "colab": {
          "base_uri": "https://localhost:8080/",
          "height": 273
        },
        "outputId": "8e47a26d-0949-4028-deda-43ebdf1539cf"
      },
      "source": [
        "env.reset() # Let's reset the state again\n",
        "display(Image.fromarray(env.render()))"
      ],
      "id": "front-nomination",
      "execution_count": 33,
      "outputs": [
        {
          "output_type": "display_data",
          "data": {
            "text/plain": [
              "<PIL.Image.Image image mode=RGB size=256x256 at 0x7F3820121F10>"
            ],
            "image/png": "[encoded data removed]"
          },
          "metadata": {}
        }
      ]
    },
    {
      "cell_type": "markdown",
      "metadata": {
        "id": "official-china"
      },
      "source": [
        "# Part 1 - MDP and Planning: Implement Policy Iteration \n",
        "- In this part we will focus on methods that assume knowledge of the enivonment dynamics, in partucular you will implement Policy Iteration. \n",
        "- The environment model can be obtained through `env.P`"
      ],
      "id": "official-china"
    },
    {
      "cell_type": "code",
      "metadata": {
        "id": "spanish-feeding",
        "colab": {
          "base_uri": "https://localhost:8080/"
        },
        "outputId": "db7a592f-1cba-49de-bf24-bd39741f0831"
      },
      "source": [
        "# No need to change anything here. Try to understand what happens \n",
        "\n",
        "# let's look at a random state-action pair and observe its transition characteristics\n",
        "# you can re-run this cell to get a different state-action pair\n",
        "random_state  = env.observation_space.sample()\n",
        "random_action = env.action_space.sample()\n",
        "# returns a list of tuples (probability,newstate,reward,is_terminal_state)\n",
        "env.P[random_state][random_action] "
      ],
      "id": "spanish-feeding",
      "execution_count": 34,
      "outputs": [
        {
          "output_type": "execute_result",
          "data": {
            "text/plain": [
              "[(1.0, 7, 0, True)]"
            ]
          },
          "metadata": {},
          "execution_count": 34
        }
      ]
    },
    {
      "cell_type": "code",
      "metadata": {
        "id": "lucky-place",
        "colab": {
          "base_uri": "https://localhost:8080/"
        },
        "outputId": "a004df00-2aab-41bf-d39a-72d1d0f84d7d"
      },
      "source": [
        "############################\n",
        "# YOUR CODE HERE #\n",
        "# Print all the terminal states in the environment.\n",
        "# you can use env.P\n",
        "############################\n",
        "terminal_states = set([])\n",
        "for state in env.P:\n",
        "    for action in env.P[state]:\n",
        "        for transitions in env.P[state][action]:\n",
        "            if transitions[3]:\n",
        "                terminal_states.add(transitions[1])\n",
        "\n",
        "print(terminal_states)"
      ],
      "id": "lucky-place",
      "execution_count": 35,
      "outputs": [
        {
          "output_type": "stream",
          "name": "stdout",
          "text": [
            "{5, 7, 11, 12, 15}\n"
          ]
        }
      ]
    },
    {
      "cell_type": "code",
      "metadata": {
        "id": "rocky-danger",
        "colab": {
          "base_uri": "https://localhost:8080/",
          "height": 273
        },
        "outputId": "966ec098-78e7-4a1e-938f-a636a585e0f2"
      },
      "source": [
        "# Verify your solution (look at the positions where final states are)\n",
        "display(Image.fromarray(env.render()))"
      ],
      "id": "rocky-danger",
      "execution_count": 36,
      "outputs": [
        {
          "output_type": "display_data",
          "data": {
            "text/plain": [
              "<PIL.Image.Image image mode=RGB size=256x256 at 0x7F38201839A0>"
            ],
            "image/png": "[encoded data removed]"
          },
          "metadata": {}
        }
      ]
    },
    {
      "cell_type": "markdown",
      "metadata": {
        "id": "protective-pendant"
      },
      "source": [
        "\n",
        "### Step A: Implement Policy Evaluation\n"
      ],
      "id": "protective-pendant"
    },
    {
      "cell_type": "code",
      "metadata": {
        "id": "forty-offering"
      },
      "source": [
        "def policy_evaluation(P, nS, nA, policy, gamma=0.9, tol=1e-3):\n",
        "    \"\"\"Evaluate the value function from a given policy.\n",
        "\n",
        "    Parameters\n",
        "    ----------\n",
        "    P, nS, nA, gamma:\n",
        "        defined at beginning of file\n",
        "    policy: np.array[nS]\n",
        "        The policy to evaluate. Maps states to actions.\n",
        "    tol: float\n",
        "        Terminate policy evaluation when\n",
        "            max |value_function(s) - prev_value_function(s)| < tol\n",
        "    Returns\n",
        "    -------\n",
        "    value_function: np.ndarray[nS]\n",
        "        The value function of the given policy, where value_function[s] is\n",
        "        the value of state s\n",
        "    \"\"\"\n",
        "\n",
        "    value_function = np.zeros(nS)\n",
        "\n",
        "    ############################\n",
        "    # YOUR IMPLEMENTATION HERE #\n",
        "    step = -1\n",
        "    total_steps = 1000\n",
        "    error = 1e9\n",
        "\n",
        "    while error > tol and step < total_steps:\n",
        "        step += 1\n",
        "        new_value_function = np.zeros(nS)\n",
        "\n",
        "        for state in range(nS):\n",
        "            action = policy[state]\n",
        "            transitions = P[state][action]\n",
        "\n",
        "            for transition in transitions:\n",
        "                probability,newstate,reward,is_terminal_state = transition\n",
        "                new_value_function[state] += probability*(reward + gamma*value_function[newstate])\n",
        "        error = np.max(np.abs(new_value_function - value_function))\n",
        "        value_function = new_value_function\n",
        "\n",
        "    if step == total_steps:\n",
        "        print(\"Policy evaluation didn't converge in given number of step.\")\n",
        "\n",
        "    ############################\n",
        "    return value_function"
      ],
      "id": "forty-offering",
      "execution_count": 37,
      "outputs": []
    },
    {
      "cell_type": "markdown",
      "metadata": {
        "id": "stunning-property"
      },
      "source": [
        "#### Evaluate random policies"
      ],
      "id": "stunning-property"
    },
    {
      "cell_type": "code",
      "metadata": {
        "id": "naked-tooth",
        "colab": {
          "base_uri": "https://localhost:8080/"
        },
        "outputId": "cef53792-d5d7-4f39-bbb2-7eca4008c13a"
      },
      "source": [
        "# Test your policy_evaluation on 5 randomly generated deterministic policies\n",
        "# print the value function of the policies\n",
        "\n",
        "############################\n",
        "# YOUR CODE HERE #\n",
        "\n",
        "for i in range(5):\n",
        "    random_policy = np.random.randint(4, size = 16)\n",
        "    print(f'-------- Policy {i}','-'*30)\n",
        "    value_function = policy_evaluation(env.P, env.observation_space.n,\\\n",
        "                                       env.action_space.n, random_policy, gamma=0.9, tol=1e-3)\n",
        "    print(value_function)\n",
        "\n",
        "############################"
      ],
      "id": "naked-tooth",
      "execution_count": 38,
      "outputs": [
        {
          "output_type": "stream",
          "name": "stdout",
          "text": [
            "-------- Policy 0 ------------------------------\n",
            "[0.01904429 0.00748964 0.0028253  0.         0.02804704 0.\n",
            " 0.04265613 0.         0.04814971 0.11252281 0.14221179 0.\n",
            " 0.         0.18486793 0.43143766 0.        ]\n",
            "-------- Policy 1 ------------------------------\n",
            "[0. 0. 0. 0. 0. 0. 0. 0. 0. 0. 0. 0. 0. 0. 0. 0.]\n",
            "-------- Policy 2 ------------------------------\n",
            "[0.01327497 0.00522332 0.03471471 0.         0.01962175 0.\n",
            " 0.08158298 0.         0.0535326  0.10710167 0.23806366 0.\n",
            " 0.         0.3049442  0.60632301 0.        ]\n",
            "-------- Policy 3 ------------------------------\n",
            "[4.19686110e-03 9.81430290e-03 2.40888933e-02 9.81430290e-03\n",
            " 1.20265560e-03 0.00000000e+00 6.23427285e-02 0.00000000e+00\n",
            " 3.92639400e-04 8.55117000e-05 1.84857879e-01 0.00000000e+00\n",
            " 0.00000000e+00 1.64025000e-05 5.54980006e-01 0.00000000e+00]\n",
            "-------- Policy 4 ------------------------------\n",
            "[0.00227286 0.00070227 0.00227286 0.         0.00573831 0.\n",
            " 0.00573831 0.         0.01772964 0.05462895 0.01772964 0.\n",
            " 0.         0.16561345 0.38796228 0.        ]\n"
          ]
        }
      ]
    },
    {
      "cell_type": "markdown",
      "metadata": {
        "id": "ongoing-evaluation"
      },
      "source": [
        "### Step B: Implement Policy Improvement"
      ],
      "id": "ongoing-evaluation"
    },
    {
      "cell_type": "code",
      "metadata": {
        "id": "cooperative-dressing"
      },
      "source": [
        "def policy_improvement(P, nS, nA, value_from_policy, policy, gamma=0.9):\n",
        "    \"\"\"\n",
        "    Given the value function from policy improve the policy.\n",
        "\n",
        "    Parameters\n",
        "    ----------\n",
        "    P, nS, nA, gamma:\n",
        "        defined at beginning of file\n",
        "    value_from_policy: np.ndarray\n",
        "        The value calculated from the policy\n",
        "    policy: np.array\n",
        "        The previous policy.\n",
        "\n",
        "    Returns\n",
        "    -------\n",
        "    new_policy: np.ndarray[nS]\n",
        "        An array of integers. Each integer is the optimal action to take\n",
        "        in that state according to the environment dynamics and the\n",
        "        given value function.\n",
        "    \"\"\"\n",
        "    new_policy = np.zeros(nS, dtype='int')\n",
        "    ############################\n",
        "    # YOUR IMPLEMENTATION HERE #\n",
        "    ############################\n",
        "\n",
        "    for state in range(nS):\n",
        "        expected_reward = np.zeros(nA)\n",
        "        for action in range(nA):\n",
        "            transitions = P[state][action]\n",
        "\n",
        "            for transition in transitions:\n",
        "                probability,newstate,reward,is_terminal_state = transition\n",
        "                expected_reward[action] += probability*(reward + gamma*value_from_policy[newstate])\n",
        "        \n",
        "        max_expected_reward_action = np.argmax(expected_reward)\n",
        "        new_policy[state] = max_expected_reward_action\n",
        "    \n",
        "    return new_policy"
      ],
      "id": "cooperative-dressing",
      "execution_count": 39,
      "outputs": []
    },
    {
      "cell_type": "code",
      "metadata": {
        "id": "behavioral-penetration",
        "colab": {
          "base_uri": "https://localhost:8080/"
        },
        "outputId": "ed2f840f-6da8-43a5-e433-77b45941db1a"
      },
      "source": [
        "# Print the value before and after policy improvements for 5 randomly generated policies\n",
        "\n",
        "############################\n",
        "# YOUR CODE HERE #\n",
        "for i in range(5):\n",
        "    random_policy = np.random.randint(4, size = 16)\n",
        "    print(f'-------- Policy {i}','-'*30)\n",
        "    value_function = policy_evaluation(env.P, env.observation_space.n,\\\n",
        "                                       env.action_space.n, random_policy, gamma=0.9, tol=1e-3)\n",
        "    print(value_function) # Print value function before improvement\n",
        "    improved_random_policy = policy_improvement(env.P, env.observation_space.n,\\\n",
        "                                       env.action_space.n, value_function, random_policy, gamma=0.9)\n",
        "    print(f'-------> Policy {i} IMPROVED','-'*21)\n",
        "    improved_value_function = policy_evaluation(env.P, env.observation_space.n,\\\n",
        "                                       env.action_space.n, improved_random_policy, gamma=0.9, tol=1e-3)\n",
        "    print(improved_value_function) # Print value after improvement\n",
        "    print()\n",
        "############################"
      ],
      "id": "behavioral-penetration",
      "execution_count": 40,
      "outputs": [
        {
          "output_type": "stream",
          "name": "stdout",
          "text": [
            "-------- Policy 0 ------------------------------\n",
            "[7.76072988e-04 1.99239078e-03 4.46486410e-03 1.74861463e-03\n",
            " 2.43776142e-04 0.00000000e+00 9.24442076e-03 0.00000000e+00\n",
            " 4.05554307e-02 9.59350669e-02 3.12450259e-02 0.00000000e+00\n",
            " 0.00000000e+00 2.49924276e-01 4.89255580e-01 0.00000000e+00]\n",
            "-------> Policy 0 IMPROVED ---------------------\n",
            "[0.0247247  0.03521485 0.05954041 0.04314273 0.06450289 0.\n",
            " 0.10547769 0.         0.12844342 0.23791923 0.29327002 0.\n",
            " 0.         0.37363349 0.63583836 0.        ]\n",
            "\n",
            "-------- Policy 1 ------------------------------\n",
            "[0. 0. 0. 0. 0. 0. 0. 0. 0. 0. 0. 0. 0. 0. 0. 0.]\n",
            "-------> Policy 1 IMPROVED ---------------------\n",
            "[0.         0.         0.02264904 0.00907875 0.         0.\n",
            " 0.05415996 0.         0.         0.         0.15891205 0.\n",
            " 0.         0.         0.4761811  0.        ]\n",
            "\n",
            "-------- Policy 2 ------------------------------\n",
            "[0.         0.         0.         0.         0.         0.\n",
            " 0.         0.         0.         0.         0.         0.\n",
            " 0.         0.         0.47584333 0.        ]\n",
            "-------> Policy 2 IMPROVED ---------------------\n",
            "[0.         0.         0.03155046 0.01308357 0.         0.\n",
            " 0.07479459 0.         0.         0.0745465  0.2190716  0.\n",
            " 0.         0.24909301 0.58242634 0.        ]\n",
            "\n",
            "-------- Policy 3 ------------------------------\n",
            "[0.01129655 0.01765965 0.03219081 0.02239419 0.00427007 0.\n",
            " 0.05443318 0.         0.03531183 0.11453497 0.18146944 0.\n",
            " 0.         0.16521924 0.43732517 0.        ]\n",
            "-------> Policy 3 IMPROVED ---------------------\n",
            "[0.02544746 0.03629475 0.06140948 0.04450216 0.06166765 0.\n",
            " 0.10051655 0.         0.12096546 0.22295813 0.27473218 0.\n",
            " 0.         0.34933607 0.59361435 0.        ]\n",
            "\n",
            "-------- Policy 4 ------------------------------\n",
            "[0.00837935 0.01348476 0.03829581 0.01576565 0.00304923 0.\n",
            " 0.07809549 0.         0.03747718 0.08580317 0.22357412 0.\n",
            " 0.         0.2494558  0.58278914 0.        ]\n",
            "-------> Policy 4 IMPROVED ---------------------\n",
            "[0.0276176  0.03917841 0.06597253 0.04791505 0.06636779 0.\n",
            " 0.10778494 0.         0.12980604 0.23899397 0.29446224 0.\n",
            " 0.         0.37438447 0.63623513 0.        ]\n",
            "\n"
          ]
        }
      ]
    },
    {
      "cell_type": "markdown",
      "metadata": {
        "id": "independent-tragedy"
      },
      "source": [
        "### Step C: Implement Policy Iteration"
      ],
      "id": "independent-tragedy"
    },
    {
      "cell_type": "code",
      "metadata": {
        "id": "ranking-template"
      },
      "source": [
        "def policy_iteration(P, nS, nA, gamma=0.9, tol=1e-3):\n",
        "    \"\"\" \n",
        "    Run policy iteration for dynamics of P.\n",
        "\n",
        "    You should use your methods: policy_evaluation() and policy_improvement() here\n",
        "\n",
        "    Parameters: \n",
        "    P, nS, nA, gamma: defined at beginning of file\n",
        "    tolerance:        tolerance parameter used in policy_evaluation()\n",
        "    \n",
        "    Returns: \n",
        "    value_function: np.ndarray[nS]\n",
        "    policy:         np.ndarray[nS]\n",
        "    \"\"\"\n",
        "\n",
        "    value_function = np.zeros(nS)\n",
        "    policy = np.zeros(nS, dtype=int)\n",
        "\n",
        "    ############################\n",
        "    # YOUR IMPLEMENTATION HERE #\n",
        "    ############################\n",
        "    total_iterations = 1000\n",
        "    converged = False\n",
        "\n",
        "    for iter in range(total_iterations):\n",
        "        value_function = policy_evaluation(P, nS, nA, policy, gamma, tol)\n",
        "        new_policy = policy_improvement(P, nS, nA, value_function, policy, gamma)\n",
        "        \n",
        "        if np.linalg.norm(new_policy - policy) == 0:\n",
        "            converged = True\n",
        "            # print(\"Converged in \" + str(iter) + \" iterations\")\n",
        "            break\n",
        "        else:\n",
        "            policy = new_policy\n",
        "\n",
        "    if not converged:\n",
        "        print(\"Policy iteration didn't converge in given number of iterations.\")\n",
        "\n",
        "    return value_function, policy"
      ],
      "id": "ranking-template",
      "execution_count": 41,
      "outputs": []
    },
    {
      "cell_type": "markdown",
      "metadata": {
        "id": "individual-cookie"
      },
      "source": [
        "#### Call your function for gamma=0.9 and gamma=0.6"
      ],
      "id": "individual-cookie"
    },
    {
      "cell_type": "code",
      "metadata": {
        "id": "subsequent-tonight",
        "colab": {
          "base_uri": "https://localhost:8080/"
        },
        "outputId": "531c6019-8b75-47b3-a258-eb242d3532dc"
      },
      "source": [
        "V_pi_s, p_pi_s = policy_iteration(env.P, env.observation_space.n, env.action_space.n, gamma=0.9, tol=1e-3)\n",
        "V_pi_s, p_pi_s"
      ],
      "id": "subsequent-tonight",
      "execution_count": 42,
      "outputs": [
        {
          "output_type": "execute_result",
          "data": {
            "text/plain": [
              "(array([0.06237625, 0.05593278, 0.07041162, 0.05147676, 0.08589466,\n",
              "        0.        , 0.11002402, 0.        , 0.14055576, 0.24415129,\n",
              "        0.29725924, 0.        , 0.        , 0.37747618, 0.63771531,\n",
              "        0.        ]), array([0, 3, 0, 3, 0, 0, 0, 0, 3, 1, 0, 0, 0, 2, 1, 0]))"
            ]
          },
          "metadata": {},
          "execution_count": 42
        }
      ]
    },
    {
      "cell_type": "code",
      "metadata": {
        "id": "military-presence",
        "colab": {
          "base_uri": "https://localhost:8080/"
        },
        "outputId": "7e5dc804-8481-409a-dc6e-1de4a8ea3e14"
      },
      "source": [
        "V_pi_f, p_pi_f = policy_iteration(env.P, env.observation_space.n, env.action_space.n, gamma=0.6, tol=1e-3)\n",
        "V_pi_f, p_pi_f"
      ],
      "id": "military-presence",
      "execution_count": 43,
      "outputs": [
        {
          "output_type": "execute_result",
          "data": {
            "text/plain": [
              "(array([0.0008448 , 0.00139093, 0.0055168 , 0.00156587, 0.00286293,\n",
              "        0.        , 0.0214272 , 0.        , 0.0119808 , 0.0470272 ,\n",
              "        0.10272853, 0.        , 0.        , 0.12289707, 0.44699307,\n",
              "        0.        ]), array([2, 3, 2, 3, 0, 0, 0, 0, 3, 1, 0, 0, 0, 2, 1, 0]))"
            ]
          },
          "metadata": {},
          "execution_count": 43
        }
      ]
    },
    {
      "cell_type": "markdown",
      "metadata": {
        "id": "fifth-unknown"
      },
      "source": [
        "#### What do you observe in terms of impact of gamma on the actions taken by the policy?"
      ],
      "id": "fifth-unknown"
    },
    {
      "cell_type": "markdown",
      "metadata": {
        "id": "GGe3wwuEoKye"
      },
      "source": [
        "Though not always observable with gamma = 0.6 and 0.9, the discount factor has effects on the convergence of a policy during policy iteration. Too small a gamma makes the agent greedy focusing more on immediate reward, causing it to not converge to an optimal solution. If set too high, the value function may converge slowly. As, you can see above the optimal policies are different. I tried with gamma = 0.1 and 1.0 and the change was much more drastic"
      ],
      "id": "GGe3wwuEoKye"
    }
  ]
}